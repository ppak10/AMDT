{
 "cells": [
  {
   "cell_type": "markdown",
   "metadata": {},
   "source": [
    "# Solver 3D\n",
    "3D rendering of solver results"
   ]
  },
  {
   "cell_type": "code",
   "execution_count": 1,
   "metadata": {},
   "outputs": [],
   "source": [
    "import matplotlib.pyplot as plt\n",
    "import numpy as np\n",
    "\n",
    "from amdt import Simulator, Solver\n",
    "from matplotlib.colors import Normalize\n",
    "from matplotlib.cm import ScalarMappable\n",
    "from tqdm import tqdm"
   ]
  },
  {
   "cell_type": "code",
   "execution_count": 2,
   "metadata": {},
   "outputs": [
    {
     "name": "stderr",
     "output_type": "stream",
     "text": [
      "100%|██████████| 86539/86539 [00:02<00:00, 40709.36it/s]\n"
     ]
    }
   ],
   "source": [
    "s = Simulator()\n",
    "gcode_commands = s.load_gcode_commands(\"3DBenchy.gcode\")"
   ]
  },
  {
   "cell_type": "code",
   "execution_count": 3,
   "metadata": {},
   "outputs": [],
   "source": [
    "LAYER_INDEX = 10\n",
    "START_INDEX = 0\n",
    "END_INDEX = -1"
   ]
  },
  {
   "cell_type": "code",
   "execution_count": 4,
   "metadata": {},
   "outputs": [
    {
     "name": "stderr",
     "output_type": "stream",
     "text": [
      "100%|██████████| 298/298 [00:00<00:00, 422692.79it/s]\n"
     ]
    }
   ],
   "source": [
    "gcode_layer_commands = s.get_gcode_commands_by_layer_change_index(LAYER_INDEX)\n",
    "gcode_segments = s.gcode_commands_to_segments(gcode_layer_commands)\n",
    "first_location = [gcode_segments[0][\"X\"][0]/1000, gcode_segments[0][\"Y\"][0]/1000]"
   ]
  },
  {
   "cell_type": "code",
   "execution_count": 5,
   "metadata": {},
   "outputs": [
    {
     "name": "stdout",
     "output_type": "stream",
     "text": [
      "\n",
      "Build Configuration\n",
      "{'beam_diameter': 5e-05, 'power': 200.0, 't_0': 300.0, 'velocity': 0.8}\n",
      "\n",
      "Material Configuration\n",
      "{'absorptivity': 1.0,\n",
      " 'c_p': 455.0,\n",
      " 'k': 8.9,\n",
      " 'rho': 7910.0,\n",
      " 't_liquidus': 1710.26,\n",
      " 't_melt': 1673.0,\n",
      " 't_solidus': 1683.68}\n",
      "\n",
      "Mesh Configuration\n",
      "{'b_c': 'temp',\n",
      " 'x_end_pad': 0.0002,\n",
      " 'x_location': 0.093946,\n",
      " 'x_max': 0.12,\n",
      " 'x_min': 0.06,\n",
      " 'x_start_pad': 0.0002,\n",
      " 'x_step': 0.0001,\n",
      " 'y_end_pad': 0.0002,\n",
      " 'y_location': 0.091817,\n",
      " 'y_max': 0.12,\n",
      " 'y_min': 0.08,\n",
      " 'y_start_pad': 0.0002,\n",
      " 'y_step': 0.0001,\n",
      " 'z_end_pad': 0.0001,\n",
      " 'z_location': 0.0,\n",
      " 'z_max': 0,\n",
      " 'z_min': -0.0008,\n",
      " 'z_start_pad': 0.0,\n",
      " 'z_step': 0.0001}\n",
      "\n",
      "Build Configuration\n",
      "{'beam_diameter': 5e-05, 'power': 200.0, 't_0': 300.0, 'velocity': 0.8}\n",
      "\n",
      "Material Configuration\n",
      "{'absorptivity': 1.0,\n",
      " 'c_p': 455.0,\n",
      " 'k': 8.9,\n",
      " 'rho': 7910.0,\n",
      " 't_liquidus': 1710.26,\n",
      " 't_melt': 1673.0,\n",
      " 't_solidus': 1683.68}\n",
      "\n",
      "Mesh Configuration\n",
      "{'b_c': 'temp',\n",
      " 'x_end_pad': 0.0002,\n",
      " 'x_location': 0.093946,\n",
      " 'x_max': 0.12,\n",
      " 'x_min': 0.06,\n",
      " 'x_start_pad': 0.0002,\n",
      " 'x_step': 0.0001,\n",
      " 'y_end_pad': 0.0002,\n",
      " 'y_location': 0.091817,\n",
      " 'y_max': 0.12,\n",
      " 'y_min': 0.08,\n",
      " 'y_start_pad': 0.0002,\n",
      " 'y_step': 0.0001,\n",
      " 'z_end_pad': 0.0001,\n",
      " 'z_location': 0.0,\n",
      " 'z_max': 0,\n",
      " 'z_min': -0.0008,\n",
      " 'z_start_pad': 0.0,\n",
      " 'z_step': 0.0001}\n"
     ]
    },
    {
     "name": "stderr",
     "output_type": "stream",
     "text": [
      "100%|██████████| 298/298 [1:43:45<00:00, 20.89s/it]  \n"
     ]
    }
   ],
   "source": [
    "mesh = {\n",
    "    \"b_c\": \"temp\",\n",
    "    \"x_location\": first_location[0],\n",
    "    \"y_location\": first_location[1],\n",
    "    \"x_min\": 0.06,\n",
    "    \"x_max\": 0.12,\n",
    "    \"y_min\": 0.08,\n",
    "    \"y_max\": 0.12,\n",
    "    \"z_min\": -800e-6,\n",
    "    \"z_max\": 0,\n",
    "    \"x_start_pad\": 200e-6, \n",
    "    \"y_start_pad\": 200e-6,\n",
    "    \"x_end_pad\": 200e-6, \n",
    "    \"y_end_pad\": 200e-6,\n",
    "}\n",
    "solver_et = Solver(mesh=mesh, verbose=True)\n",
    "solver_r = Solver(mesh=mesh, verbose=True)\n",
    "\n",
    "velocity = 800 # mm/s\n",
    "\n",
    "thetas_r = []\n",
    "thetas_et = []\n",
    "\n",
    "for index in tqdm(range(len(gcode_segments))):\n",
    "\n",
    "\n",
    "    line = gcode_segments[index]\n",
    "    dt = line[\"distance_xy\"] / velocity\n",
    "\n",
    "    power = 200\n",
    "\n",
    "    if line[\"travel\"]:\n",
    "        power = 0\n",
    "\n",
    "    if dt > 0:\n",
    "        solver_r.forward({\"dt\": dt, \"phi\": line[\"angle_xy\"], \"power\": power}, model=\"rosenthal\")\n",
    "        thetas_r.append(solver_r.theta)\n",
    "\n",
    "        solver_et.forward({\"dt\": dt, \"phi\": line[\"angle_xy\"], \"power\": power})\n",
    "        thetas_et.append(solver_et.theta)"
   ]
  },
  {
   "cell_type": "code",
   "execution_count": 6,
   "metadata": {},
   "outputs": [],
   "source": [
    "np.savez(\"thetas_r.npz\", data = thetas_r, compressions=\"gzip\")\n",
    "np.savez(\"thetas_et.npz\", data = thetas_et, compressions=\"gzip\")"
   ]
  },
  {
   "cell_type": "code",
   "execution_count": 7,
   "metadata": {},
   "outputs": [],
   "source": [
    "loaded_thetas_r = np.load(\"thetas_r.npz\")\n",
    "loaded_thetas_et = np.load(\"thetas_et.npz\")"
   ]
  },
  {
   "cell_type": "code",
   "execution_count": 8,
   "metadata": {},
   "outputs": [
    {
     "name": "stdout",
     "output_type": "stream",
     "text": [
      "277\n",
      "(604, 405, 9)\n",
      "277\n",
      "(604, 405, 9)\n"
     ]
    }
   ],
   "source": [
    "thetas_r = loaded_thetas_r[\"data\"]\n",
    "print(len(thetas_r))\n",
    "print(thetas_r[0].shape)\n",
    "\n",
    "thetas_et = loaded_thetas_et[\"data\"]\n",
    "print(len(thetas_et))\n",
    "print(thetas_et[0].shape)"
   ]
  },
  {
   "cell_type": "code",
   "execution_count": 9,
   "metadata": {},
   "outputs": [
    {
     "name": "stdout",
     "output_type": "stream",
     "text": [
      "277\n"
     ]
    }
   ],
   "source": [
    "clim = [310, 2000]\n",
    "threshold = clim[0]\n",
    "thresholded_voxels = [np.where(t <= threshold, False, t) for t in thetas_r]\n",
    "cmap = plt.get_cmap(\"plasma\")\n",
    "norm = Normalize(vmin=clim[0], vmax=clim[1])\n",
    "print(len(thresholded_voxels))"
   ]
  },
  {
   "cell_type": "code",
   "execution_count": 10,
   "metadata": {},
   "outputs": [],
   "source": [
    "import gc\n",
    "\n",
    "def plot_frame(frame_index):\n",
    "    # Normalize your data for colormap\n",
    "    title = f\"frame_index {frame_index}\"\n",
    "    voxels = thresholded_voxels[frame_index]\n",
    "\n",
    "    colors = cmap(norm(voxels))\n",
    "\n",
    "    fig = plt.figure(figsize=(10, 10))\n",
    "    ax = fig.add_subplot(projection='3d')\n",
    "\n",
    "    x_dim, y_dim, z_dim = voxels.shape  # Dimensions of the voxel grid\n",
    "\n",
    "    ax.set_xlim([0, x_dim])\n",
    "    ax.set_ylim([0, y_dim])\n",
    "    ax.set_zlim([0, z_dim])\n",
    "\n",
    "    # Remove tick markers\n",
    "    ax.set_xticks([])\n",
    "    ax.set_yticks([])\n",
    "    ax.set_zticks([])\n",
    "\n",
    "    # Hide axis lines and panes\n",
    "    ax.xaxis.set_visible(False)\n",
    "    ax.yaxis.set_visible(False)\n",
    "    ax.zaxis.set_visible(False)\n",
    "\n",
    "    ax.set_title(title)\n",
    "\n",
    "    # Calculate the maximum extent for equal aspect ratio\n",
    "    max_extent = max(x_dim, y_dim, z_dim)\n",
    "\n",
    "    # Center and scale each axis to have equal aspect ratio\n",
    "    ax.set_box_aspect((x_dim / max_extent, y_dim / max_extent, z_dim / max_extent))\n",
    "\n",
    "    ax.voxels(\n",
    "        voxels,\n",
    "        facecolors=colors,\n",
    "        edgecolors=np.clip(2 * colors - 0.5, 0, 1),\n",
    "        linewidth=0.5\n",
    "    )\n",
    "\n",
    "    # Add color bar\n",
    "    mappable = ScalarMappable(norm=norm, cmap=cmap)\n",
    "    mappable.set_array([])  # This line is necessary to avoid errors\n",
    "\n",
    "    # Add the color bar to the figure\n",
    "    cbar = fig.colorbar(mappable, ax=ax, shrink=0.5, aspect=10)\n",
    "    cbar.set_label(\"temperature\")\n",
    "    filename = f\"{frame_index}\".zfill(4)\n",
    "    plt.savefig(f\"solver_3d_r/{filename}.png\")\n",
    "\n",
    "    # Explicitly clean up large variables to free memory\n",
    "    del voxels  # Release the reference to the frame's voxel data\n",
    "    del fig     # Release the figure object\n",
    "    del ax      # Release the axis object\n",
    "\n",
    "    # Optional: Call garbage collection to free memory immediately\n",
    "    gc.collect()  # This will clean up unused memory within this process\n"
   ]
  },
  {
   "cell_type": "code",
   "execution_count": 11,
   "metadata": {},
   "outputs": [
    {
     "data": {
      "text/plain": [
       "[<matplotlib.lines.Line2D at 0x76d7fdf4bbe0>]"
      ]
     },
     "execution_count": 11,
     "metadata": {},
     "output_type": "execute_result"
    },
    {
     "data": {
      "image/png": "[encoded data removed]",
      "text/plain": [
       "<Figure size 500x500 with 1 Axes>"
      ]
     },
     "metadata": {},
     "output_type": "display_data"
    }
   ],
   "source": [
    "fig, ax = plt.subplots(1, 1, figsize=(5, 5))\n",
    "frame_index = 270\n",
    "voxels = thresholded_voxels[frame_index]\n",
    "\n",
    "ax.set_title(\"Eagar-Tsai\")\n",
    "ax.pcolormesh(solver_et.xs, solver_et.ys, voxels[:, :, -1].T, cmap = 'jet', vmin = 310, vmax = 1923)\n",
    "ax.plot(solver_et.location[0], solver_et.location[1] ,'r.')\n",
    "ax.plot(solver_et.xs[solver_et.location_idx[0]], solver_et.ys[solver_et.location_idx[1]], 'k.')"
   ]
  },
  {
   "cell_type": "code",
   "execution_count": 12,
   "metadata": {},
   "outputs": [],
   "source": [
    "import multiprocessing\n",
    "import gc\n",
    "\n",
    "def plot_frames_in_parallel(frame_indices):\n",
    "    # Create a Pool of workers to process multiple frames in parallel\n",
    "    with multiprocessing.Pool(processes=multiprocessing.cpu_count()) as pool:\n",
    "        pool.map(plot_frame, frame_indices)\n",
    "\n",
    "    gc.collect()\n",
    "\n",
    "# Example usage\n",
    "frame_indices = range(len(thresholded_voxels))  # Example frame indices\n",
    "# frame_indices = range(0, 100)  # Example frame indices\n",
    "plot_frames_in_parallel(frame_indices)"
   ]
  },
  {
   "cell_type": "code",
   "execution_count": 13,
   "metadata": {},
   "outputs": [],
   "source": [
    "import os\n",
    "import imageio\n",
    "\n",
    "def create_gif_from_images(image_folder, gif_filename=\"output.gif\"):\n",
    "    # List all files in the folder and sort them by filename\n",
    "    image_files = sorted([f for f in os.listdir(image_folder) if f.endswith('.png')])\n",
    "\n",
    "    # Create a list to store images\n",
    "    images = []\n",
    "    for image_file in image_files:\n",
    "        image_path = os.path.join(image_folder, image_file)\n",
    "        images.append(imageio.imread(image_path))\n",
    "\n",
    "    # Create the GIF\n",
    "    imageio.mimsave(gif_filename, images, duration=0.1, loop=0)  # You can adjust the duration\n",
    "\n",
    "    print(f\"GIF saved as {gif_filename}\")"
   ]
  },
  {
   "cell_type": "code",
   "execution_count": 14,
   "metadata": {},
   "outputs": [
    {
     "name": "stderr",
     "output_type": "stream",
     "text": [
      "/tmp/ipykernel_230409/3917812420.py:12: DeprecationWarning: Starting with ImageIO v3 the behavior of this function will switch to that of iio.v3.imread. To keep the current behavior (and make this warning disappear) use `import imageio.v2 as imageio` or call `imageio.v2.imread` directly.\n",
      "  images.append(imageio.imread(image_path))\n"
     ]
    },
    {
     "name": "stdout",
     "output_type": "stream",
     "text": [
      "GIF saved as r.gif\n"
     ]
    }
   ],
   "source": [
    "create_gif_from_images(\"solver_3d_r\", \"r.gif\")"
   ]
  },
  {
   "cell_type": "code",
   "execution_count": null,
   "metadata": {},
   "outputs": [],
   "source": []
  }
 ],
 "metadata": {
  "kernelspec": {
   "display_name": "venv",
   "language": "python",
   "name": "python3"
  },
  "language_info": {
   "codemirror_mode": {
    "name": "ipython",
    "version": 3
   },
   "file_extension": ".py",
   "mimetype": "text/x-python",
   "name": "python",
   "nbconvert_exporter": "python",
   "pygments_lexer": "ipython3",
   "version": "3.10.12"
  }
 },
 "nbformat": 4,
 "nbformat_minor": 2
}

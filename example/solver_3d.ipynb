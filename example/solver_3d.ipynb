{
 "cells": [
  {
   "cell_type": "markdown",
   "metadata": {},
   "source": [
    "# Solver 3D\n",
    "3D rendering of solver results"
   ]
  },
  {
   "cell_type": "code",
   "execution_count": 1,
   "metadata": {},
   "outputs": [],
   "source": [
    "import matplotlib.pyplot as plt\n",
    "import numpy as np\n",
    "\n",
    "from amdt import Simulator, Solver\n",
    "from matplotlib.animation import FuncAnimation, PillowWriter\n",
    "from matplotlib.colors import Normalize\n",
    "from matplotlib.cm import get_cmap, ScalarMappable\n",
    "from tqdm import tqdm\n",
    "from pprint import pprint"
   ]
  },
  {
   "cell_type": "code",
   "execution_count": 2,
   "metadata": {},
   "outputs": [
    {
     "name": "stderr",
     "output_type": "stream",
     "text": [
      "100%|██████████| 86539/86539 [00:04<00:00, 18859.92it/s]\n"
     ]
    }
   ],
   "source": [
    "s = Simulator()\n",
    "gcode_commands = s.load_gcode_commands(\"3DBenchy.gcode\")"
   ]
  },
  {
   "cell_type": "code",
   "execution_count": 3,
   "metadata": {},
   "outputs": [],
   "source": [
    "LAYER_INDEX = 10\n",
    "START_INDEX = 0\n",
    "END_INDEX = -1"
   ]
  },
  {
   "cell_type": "code",
   "execution_count": 6,
   "metadata": {},
   "outputs": [
    {
     "name": "stderr",
     "output_type": "stream",
     "text": [
      "100%|██████████| 298/298 [00:00<00:00, 325072.20it/s]\n"
     ]
    }
   ],
   "source": [
    "gcode_layer_commands = s.get_gcode_commands_by_layer_change_index(LAYER_INDEX)\n",
    "gcode_segments = s.gcode_commands_to_segments(gcode_layer_commands)\n",
    "first_location = [gcode_segments[0][\"X\"][0]/1000, gcode_segments[0][\"Y\"][0]/1000]"
   ]
  },
  {
   "cell_type": "code",
   "execution_count": 7,
   "metadata": {},
   "outputs": [
    {
     "name": "stdout",
     "output_type": "stream",
     "text": [
      "\n",
      "Build Configuration\n",
      "{'beam_diameter': 5e-05, 'power': 200.0, 't_0': 300.0, 'velocity': 0.8}\n",
      "\n",
      "Material Configuration\n",
      "{'absorptivity': 1.0,\n",
      " 'c_p': 455.0,\n",
      " 'k': 8.9,\n",
      " 'rho': 7910.0,\n",
      " 't_liquidus': 1710.26,\n",
      " 't_melt': 1673.0,\n",
      " 't_solidus': 1683.68}\n",
      "\n",
      "Mesh Configuration\n",
      "{'b_c': 'temp',\n",
      " 'x_end_pad': 0.0002,\n",
      " 'x_location': 0.093946,\n",
      " 'x_max': 0.12,\n",
      " 'x_min': 0.06,\n",
      " 'x_start_pad': 0.0002,\n",
      " 'x_step': 0.0001,\n",
      " 'y_end_pad': 0.0002,\n",
      " 'y_location': 0.091817,\n",
      " 'y_max': 0.12,\n",
      " 'y_min': 0.08,\n",
      " 'y_start_pad': 0.0002,\n",
      " 'y_step': 0.0001,\n",
      " 'z_end_pad': 0.0001,\n",
      " 'z_location': 0.0,\n",
      " 'z_max': 0,\n",
      " 'z_min': -0.0008,\n",
      " 'z_start_pad': 0.0,\n",
      " 'z_step': 0.0001}\n",
      "\n",
      "Build Configuration\n",
      "{'beam_diameter': 5e-05, 'power': 200.0, 't_0': 300.0, 'velocity': 0.8}\n",
      "\n",
      "Material Configuration\n",
      "{'absorptivity': 1.0,\n",
      " 'c_p': 455.0,\n",
      " 'k': 8.9,\n",
      " 'rho': 7910.0,\n",
      " 't_liquidus': 1710.26,\n",
      " 't_melt': 1673.0,\n",
      " 't_solidus': 1683.68}\n",
      "\n",
      "Mesh Configuration\n",
      "{'b_c': 'temp',\n",
      " 'x_end_pad': 0.0002,\n",
      " 'x_location': 0.093946,\n",
      " 'x_max': 0.12,\n",
      " 'x_min': 0.06,\n",
      " 'x_start_pad': 0.0002,\n",
      " 'x_step': 0.0001,\n",
      " 'y_end_pad': 0.0002,\n",
      " 'y_location': 0.091817,\n",
      " 'y_max': 0.12,\n",
      " 'y_min': 0.08,\n",
      " 'y_start_pad': 0.0002,\n",
      " 'y_step': 0.0001,\n",
      " 'z_end_pad': 0.0001,\n",
      " 'z_location': 0.0,\n",
      " 'z_max': 0,\n",
      " 'z_min': -0.0008,\n",
      " 'z_start_pad': 0.0,\n",
      " 'z_step': 0.0001}\n"
     ]
    },
    {
     "name": "stderr",
     "output_type": "stream",
     "text": [
      "100%|██████████| 298/298 [05:19<00:00,  1.07s/it]\n"
     ]
    }
   ],
   "source": [
    "mesh = {\n",
    "    \"b_c\": \"temp\",\n",
    "    \"x_location\": first_location[0],\n",
    "    \"y_location\": first_location[1],\n",
    "    \"x_min\": 0.06,\n",
    "    \"x_max\": 0.12,\n",
    "    \"y_min\": 0.08,\n",
    "    \"y_max\": 0.12,\n",
    "    \"z_min\": -800e-6,\n",
    "    \"z_max\": 0,\n",
    "    \"x_start_pad\": 200e-6, \n",
    "    \"y_start_pad\": 200e-6,\n",
    "    \"x_end_pad\": 200e-6, \n",
    "    \"y_end_pad\": 200e-6,\n",
    "}\n",
    "solver_et = Solver(mesh=mesh, verbose=True)\n",
    "solver_r = Solver(mesh=mesh, verbose=True)\n",
    "\n",
    "velocity = 800 # mm/s\n",
    "\n",
    "thetas_r = []\n",
    "thetas_et = []\n",
    "\n",
    "for index in tqdm(range(len(gcode_segments))):\n",
    "\n",
    "    power = 200\n",
    "\n",
    "    line = gcode_segments[index]\n",
    "    dt = line[\"distance_xy\"] / velocity\n",
    "\n",
    "    if not line[\"travel\"]:\n",
    "        power = 0\n",
    "\n",
    "    solver_r.forward({\"dt\": dt, \"phi\": line[\"angle_xy\"], \"power\": power}, model=\"rosenthal\")\n",
    "    thetas_r.append(solver_r.theta)\n",
    "\n",
    "    solver_et.forward({\"dt\": dt, \"phi\": line[\"angle_xy\"], \"power\": power})\n",
    "    thetas_et.append(solver_et.theta)"
   ]
  },
  {
   "cell_type": "code",
   "execution_count": 2,
   "metadata": {},
   "outputs": [
    {
     "ename": "NameError",
     "evalue": "name 'thetas_r' is not defined",
     "output_type": "error",
     "traceback": [
      "\u001b[0;31m---------------------------------------------------------------------------\u001b[0m",
      "\u001b[0;31mNameError\u001b[0m                                 Traceback (most recent call last)",
      "Cell \u001b[0;32mIn[2], line 1\u001b[0m\n\u001b[0;32m----> 1\u001b[0m np\u001b[38;5;241m.\u001b[39msavez(\u001b[38;5;124m\"\u001b[39m\u001b[38;5;124mthetas_r.npz\u001b[39m\u001b[38;5;124m\"\u001b[39m, data \u001b[38;5;241m=\u001b[39m \u001b[43mthetas_r\u001b[49m)\n\u001b[1;32m      2\u001b[0m np\u001b[38;5;241m.\u001b[39msavez(\u001b[38;5;124m\"\u001b[39m\u001b[38;5;124mthetas_et.npz\u001b[39m\u001b[38;5;124m\"\u001b[39m, data \u001b[38;5;241m=\u001b[39m thetas_et)\n",
      "\u001b[0;31mNameError\u001b[0m: name 'thetas_r' is not defined"
     ]
    }
   ],
   "source": [
    "np.savez(\"thetas_r.npz\", data = thetas_r)\n",
    "np.savez(\"thetas_et.npz\", data = thetas_et)"
   ]
  },
  {
   "cell_type": "code",
   "execution_count": 4,
   "metadata": {},
   "outputs": [],
   "source": [
    "loaded_thetas_r = np.load(\"thetas_r.npz\")\n",
    "loaded_thetas_et = np.load(\"thetas_et.npz\")"
   ]
  },
  {
   "cell_type": "code",
   "execution_count": 5,
   "metadata": {},
   "outputs": [
    {
     "name": "stdout",
     "output_type": "stream",
     "text": [
      "298\n",
      "(604, 405, 9)\n",
      "298\n",
      "(604, 405, 9)\n"
     ]
    }
   ],
   "source": [
    "thetas_r = loaded_thetas_r[\"data\"]\n",
    "print(len(thetas_r))\n",
    "print(thetas_r[0].shape)\n",
    "\n",
    "thetas_et = loaded_thetas_et[\"data\"]\n",
    "print(len(thetas_et))\n",
    "print(thetas_et[0].shape)"
   ]
  },
  {
   "cell_type": "code",
   "execution_count": null,
   "metadata": {},
   "outputs": [
    {
     "ename": "KeyboardInterrupt",
     "evalue": "",
     "output_type": "error",
     "traceback": [
      "\u001b[0;31m---------------------------------------------------------------------------\u001b[0m",
      "\u001b[0;31mKeyboardInterrupt\u001b[0m                         Traceback (most recent call last)",
      "Cell \u001b[0;32mIn[7], line 26\u001b[0m\n\u001b[1;32m     24\u001b[0m fig \u001b[38;5;241m=\u001b[39m plt\u001b[38;5;241m.\u001b[39mfigure(figsize\u001b[38;5;241m=\u001b[39m(\u001b[38;5;241m10\u001b[39m, \u001b[38;5;241m10\u001b[39m))\n\u001b[1;32m     25\u001b[0m ax \u001b[38;5;241m=\u001b[39m fig\u001b[38;5;241m.\u001b[39madd_subplot(\u001b[38;5;241m111\u001b[39m, projection\u001b[38;5;241m=\u001b[39m\u001b[38;5;124m'\u001b[39m\u001b[38;5;124m3d\u001b[39m\u001b[38;5;124m'\u001b[39m)\n\u001b[0;32m---> 26\u001b[0m \u001b[43max\u001b[49m\u001b[38;5;241;43m.\u001b[39;49m\u001b[43mvoxels\u001b[49m\u001b[43m(\u001b[49m\n\u001b[1;32m     27\u001b[0m \u001b[43m    \u001b[49m\u001b[43mvoxels\u001b[49m\u001b[43m,\u001b[49m\n\u001b[1;32m     28\u001b[0m \u001b[43m    \u001b[49m\u001b[43mfacecolors\u001b[49m\u001b[38;5;241;43m=\u001b[39;49m\u001b[43mcolors\u001b[49m\u001b[43m,\u001b[49m\n\u001b[1;32m     29\u001b[0m \u001b[43m    \u001b[49m\u001b[38;5;66;43;03m# edgecolors=np.clip(2 * normalized_colors - 0.5, 0, 1),\u001b[39;49;00m\n\u001b[1;32m     30\u001b[0m \u001b[43m    \u001b[49m\u001b[43mlinewidth\u001b[49m\u001b[38;5;241;43m=\u001b[39;49m\u001b[38;5;241;43m0.5\u001b[39;49m\n\u001b[1;32m     31\u001b[0m \u001b[43m)\u001b[49m\n\u001b[1;32m     33\u001b[0m x_dim, y_dim, z_dim \u001b[38;5;241m=\u001b[39m voxels\u001b[38;5;241m.\u001b[39mshape  \u001b[38;5;66;03m# Dimensions of the voxel grid\u001b[39;00m\n\u001b[1;32m     35\u001b[0m ax\u001b[38;5;241m.\u001b[39mset_xlim([\u001b[38;5;241m0\u001b[39m, x_dim])\n",
      "File \u001b[0;32m/mnt/am/GitHub/AMDT/venv/lib/python3.10/site-packages/mpl_toolkits/mplot3d/axes3d.py:3548\u001b[0m, in \u001b[0;36mAxes3D.voxels\u001b[0;34m(self, facecolors, edgecolors, shade, lightsource, axlim_clip, *args, **kwargs)\u001b[0m\n\u001b[1;32m   3542\u001b[0m     edgecolor \u001b[38;5;241m=\u001b[39m edgecolors[coord]\n\u001b[1;32m   3544\u001b[0m     poly \u001b[38;5;241m=\u001b[39m art3d\u001b[38;5;241m.\u001b[39mPoly3DCollection(\n\u001b[1;32m   3545\u001b[0m         faces, facecolors\u001b[38;5;241m=\u001b[39mfacecolor, edgecolors\u001b[38;5;241m=\u001b[39medgecolor,\n\u001b[1;32m   3546\u001b[0m         shade\u001b[38;5;241m=\u001b[39mshade, lightsource\u001b[38;5;241m=\u001b[39mlightsource, axlim_clip\u001b[38;5;241m=\u001b[39maxlim_clip,\n\u001b[1;32m   3547\u001b[0m         \u001b[38;5;241m*\u001b[39m\u001b[38;5;241m*\u001b[39mkwargs)\n\u001b[0;32m-> 3548\u001b[0m     \u001b[38;5;28;43mself\u001b[39;49m\u001b[38;5;241;43m.\u001b[39;49m\u001b[43madd_collection3d\u001b[49m\u001b[43m(\u001b[49m\u001b[43mpoly\u001b[49m\u001b[43m)\u001b[49m\n\u001b[1;32m   3549\u001b[0m     polygons[coord] \u001b[38;5;241m=\u001b[39m poly\n\u001b[1;32m   3551\u001b[0m \u001b[38;5;28;01mreturn\u001b[39;00m polygons\n",
      "File \u001b[0;32m/mnt/am/GitHub/AMDT/venv/lib/python3.10/site-packages/mpl_toolkits/mplot3d/axes3d.py:2878\u001b[0m, in \u001b[0;36mAxes3D.add_collection3d\u001b[0;34m(self, col, zs, zdir, autolim, axlim_clip)\u001b[0m\n\u001b[1;32m   2875\u001b[0m     \u001b[38;5;28mself\u001b[39m\u001b[38;5;241m.\u001b[39mauto_scale_xyz(\u001b[38;5;241m*\u001b[39mnp\u001b[38;5;241m.\u001b[39marray(col\u001b[38;5;241m.\u001b[39m_segments3d)\u001b[38;5;241m.\u001b[39mtranspose(),\n\u001b[1;32m   2876\u001b[0m                         had_data\u001b[38;5;241m=\u001b[39mhad_data)\n\u001b[1;32m   2877\u001b[0m \u001b[38;5;28;01melif\u001b[39;00m \u001b[38;5;28misinstance\u001b[39m(col, art3d\u001b[38;5;241m.\u001b[39mPoly3DCollection):\n\u001b[0;32m-> 2878\u001b[0m     \u001b[38;5;28;43mself\u001b[39;49m\u001b[38;5;241;43m.\u001b[39;49m\u001b[43mauto_scale_xyz\u001b[49m\u001b[43m(\u001b[49m\u001b[38;5;241;43m*\u001b[39;49m\u001b[43mcol\u001b[49m\u001b[38;5;241;43m.\u001b[39;49m\u001b[43m_vec\u001b[49m\u001b[43m[\u001b[49m\u001b[43m:\u001b[49m\u001b[38;5;241;43m-\u001b[39;49m\u001b[38;5;241;43m1\u001b[39;49m\u001b[43m]\u001b[49m\u001b[43m,\u001b[49m\u001b[43m \u001b[49m\u001b[43mhad_data\u001b[49m\u001b[38;5;241;43m=\u001b[39;49m\u001b[43mhad_data\u001b[49m\u001b[43m)\u001b[49m\n\u001b[1;32m   2879\u001b[0m \u001b[38;5;28;01melif\u001b[39;00m \u001b[38;5;28misinstance\u001b[39m(col, art3d\u001b[38;5;241m.\u001b[39mPatch3DCollection):\n\u001b[1;32m   2880\u001b[0m     \u001b[38;5;28;01mpass\u001b[39;00m\n",
      "File \u001b[0;32m/mnt/am/GitHub/AMDT/venv/lib/python3.10/site-packages/mpl_toolkits/mplot3d/axes3d.py:609\u001b[0m, in \u001b[0;36mAxes3D.auto_scale_xyz\u001b[0;34m(self, X, Y, Z, had_data)\u001b[0m\n\u001b[1;32m    607\u001b[0m     \u001b[38;5;28mself\u001b[39m\u001b[38;5;241m.\u001b[39mzz_dataLim\u001b[38;5;241m.\u001b[39mupdate_from_data_x(Z, \u001b[38;5;129;01mnot\u001b[39;00m had_data)\n\u001b[1;32m    608\u001b[0m \u001b[38;5;66;03m# Let autoscale_view figure out how to use this data.\u001b[39;00m\n\u001b[0;32m--> 609\u001b[0m \u001b[38;5;28;43mself\u001b[39;49m\u001b[38;5;241;43m.\u001b[39;49m\u001b[43mautoscale_view\u001b[49m\u001b[43m(\u001b[49m\u001b[43m)\u001b[49m\n",
      "File \u001b[0;32m/mnt/am/GitHub/AMDT/venv/lib/python3.10/site-packages/mpl_toolkits/mplot3d/axes3d.py:626\u001b[0m, in \u001b[0;36mAxes3D.autoscale_view\u001b[0;34m(self, tight, scalex, scaley, scalez)\u001b[0m\n\u001b[1;32m    623\u001b[0m \u001b[38;5;28;01mif\u001b[39;00m \u001b[38;5;129;01mnot\u001b[39;00m _tight:\n\u001b[1;32m    624\u001b[0m     \u001b[38;5;66;03m# if image data only just use the datalim\u001b[39;00m\n\u001b[1;32m    625\u001b[0m     \u001b[38;5;28;01mfor\u001b[39;00m artist \u001b[38;5;129;01min\u001b[39;00m \u001b[38;5;28mself\u001b[39m\u001b[38;5;241m.\u001b[39m_children:\n\u001b[0;32m--> 626\u001b[0m         \u001b[38;5;28;01mif\u001b[39;00m \u001b[38;5;28;43misinstance\u001b[39;49m\u001b[43m(\u001b[49m\u001b[43martist\u001b[49m\u001b[43m,\u001b[49m\u001b[43m \u001b[49m\u001b[43mmimage\u001b[49m\u001b[38;5;241;43m.\u001b[39;49m\u001b[43mAxesImage\u001b[49m\u001b[43m)\u001b[49m:\n\u001b[1;32m    627\u001b[0m             _tight \u001b[38;5;241m=\u001b[39m \u001b[38;5;28;01mTrue\u001b[39;00m\n\u001b[1;32m    628\u001b[0m         \u001b[38;5;28;01melif\u001b[39;00m \u001b[38;5;28misinstance\u001b[39m(artist, (mlines\u001b[38;5;241m.\u001b[39mLine2D, mpatches\u001b[38;5;241m.\u001b[39mPatch)):\n",
      "\u001b[0;31mKeyboardInterrupt\u001b[0m: "
     ]
    }
   ],
   "source": [
    "key = \"temperature\"\n",
    "# title = f\"{power} W, {velocity} m/s\"\n",
    "title = \"rosenthal\"\n",
    "\n",
    "# values = solver.theta\n",
    "# print(values.shape)\n",
    "# mesh_x, mesh_y, mesh_z = np.meshgrid(solver.xs, solver.ys, solver.zs, indexing=\"ij\")\n",
    "# mesh = np.stack((mesh_x, mesh_y, mesh_z), axis = -1)\n",
    "# print(mesh.shape)\n",
    "\n",
    "clim = [300, 3000]\n",
    "threshold = clim[0]\n",
    "voxels = thetas_r[0]\n",
    "# voxels = solver.theta > threshold  # Apply threshold to create a binary voxel structure\n",
    "\n",
    "cmap = plt.get_cmap(\"plasma\")\n",
    "\n",
    "# Normalize your data for colormap\n",
    "norm = Normalize(vmin=clim[0], vmax=clim[1])\n",
    "\n",
    "colors = cmap(norm(voxels))\n",
    "\n",
    "# Plot using Matplotlib's voxels\n",
    "fig = plt.figure(figsize=(10, 10))\n",
    "ax = fig.add_subplot(111, projection='3d')\n",
    "ax.voxels(\n",
    "    voxels,\n",
    "    facecolors=colors,\n",
    "    # edgecolors=np.clip(2 * normalized_colors - 0.5, 0, 1),\n",
    "    linewidth=0.5\n",
    ")\n",
    "\n",
    "x_dim, y_dim, z_dim = voxels.shape  # Dimensions of the voxel grid\n",
    "\n",
    "ax.set_xlim([0, x_dim])\n",
    "ax.set_ylim([0, y_dim])\n",
    "ax.set_zlim([0, z_dim])\n",
    "\n",
    "# Set tick markers every 10 units\n",
    "ax.set_xticks(np.arange(0, x_dim + 1, 10))\n",
    "ax.set_yticks(np.arange(0, y_dim + 1, 10))\n",
    "ax.set_zticks(np.arange(0, z_dim + 1, 10))\n",
    "\n",
    "ax.set(xlabel='X', ylabel='Y', zlabel='Z')\n",
    "ax.set_title(title)\n",
    "\n",
    "# Calculate the maximum extent for equal aspect ratio\n",
    "max_extent = max(x_dim, y_dim, z_dim)\n",
    "\n",
    "# Center and scale each axis to have equal aspect ratio\n",
    "ax.set_box_aspect((x_dim / max_extent, y_dim / max_extent, z_dim / max_extent))\n",
    "# ax.set_aspect('auto')\n",
    "\n",
    "# Add color bar\n",
    "mappable = ScalarMappable(norm=norm, cmap=cmap)\n",
    "mappable.set_array([])  # This line is necessary to avoid errors\n",
    "\n",
    "# Add the color bar to the figure\n",
    "cbar = fig.colorbar(mappable, ax=ax, shrink=0.5, aspect=10)\n",
    "cbar.set_label(key)\n"
   ]
  }
 ],
 "metadata": {
  "kernelspec": {
   "display_name": "venv",
   "language": "python",
   "name": "python3"
  },
  "language_info": {
   "codemirror_mode": {
    "name": "ipython",
    "version": 3
   },
   "file_extension": ".py",
   "mimetype": "text/x-python",
   "name": "python",
   "nbconvert_exporter": "python",
   "pygments_lexer": "ipython3",
   "version": "3.10.16"
  }
 },
 "nbformat": 4,
 "nbformat_minor": 2
}
